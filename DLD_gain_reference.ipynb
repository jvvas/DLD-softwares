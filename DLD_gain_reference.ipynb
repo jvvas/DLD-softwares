{
 "cells": [
  {
   "cell_type": "markdown",
   "id": "4fd440c0",
   "metadata": {},
   "source": [
    "## <center> DLD image processing </center>\n",
    "### <center> By Dr. Joseph Vas"
   ]
  },
  {
   "cell_type": "code",
   "execution_count": 1,
   "id": "1df8e8f0",
   "metadata": {},
   "outputs": [],
   "source": [
    "import numpy as np\n",
    "from PIL import Image\n",
    "import matplotlib.pyplot as plt\n",
    "import sys, os, glob"
   ]
  },
  {
   "cell_type": "code",
   "execution_count": 2,
   "id": "976aecbd",
   "metadata": {},
   "outputs": [
    {
     "name": "stdout",
     "output_type": "stream",
     "text": [
      "Populating the interactive namespace from numpy and matplotlib\n"
     ]
    }
   ],
   "source": [
    "%pylab qt"
   ]
  },
  {
   "cell_type": "markdown",
   "id": "5053d964",
   "metadata": {},
   "source": [
    "Gain referencing"
   ]
  },
  {
   "cell_type": "code",
   "execution_count": 3,
   "id": "cd61f8dd",
   "metadata": {},
   "outputs": [],
   "source": [
    "def compute_gain_reference(path):\n",
    "    \n",
    "    k =int((1620-1024)/2) #this needs to be changed later\n",
    "    \n",
    "    extension = '*.tif'\n",
    "    folder_check = path+'/'+extension\n",
    "    files = glob.glob(folder_check)\n",
    "    \n",
    "    calibration_images = []\n",
    "    \n",
    "    for file in files:\n",
    "        n_num = np.array(Image.open(file)).shape[0]\n",
    "        calibration_images.append(np.array(Image.open(file))[k:n_num-k,k:n_num-k])\n",
    "    num_images = len(calibration_images)\n",
    "\n",
    "    # Get image size from the first calibration image\n",
    "    image_height, image_width = calibration_images[0].shape\n",
    "\n",
    "    # Initialize an array to store the average pixel values\n",
    "    average_pixel_values = np.zeros((image_height, image_width), dtype=np.float32)\n",
    "\n",
    "    # Compute the average pixel values for each image\n",
    "    for image in calibration_images:\n",
    "        average_pixel_values += image.astype(np.float32) / num_images\n",
    "\n",
    "    # Normalize the average pixel values by dividing by a reference level\n",
    "    reference_level = np.max(average_pixel_values)  # Use the maximum pixel value as the reference level\n",
    "    normalized_average_pixel_values = average_pixel_values / reference_level\n",
    "\n",
    "    return normalized_average_pixel_values\n",
    "\n",
    "def compute_processed_image(raw_image, dark_reference, gain_reference):\n",
    "    # Subtract dark reference\n",
    "    processed_image = raw_image #- dark_reference\n",
    "\n",
    "    # Apply gain correction\n",
    "    processed_image = np.divide(processed_image, gain_reference)\n",
    "\n",
    "    return processed_image\n",
    "\n"
   ]
  },
  {
   "cell_type": "code",
   "execution_count": 9,
   "id": "3c53290e",
   "metadata": {},
   "outputs": [],
   "source": [
    "path = '/Users/josephvas/Dropbox/ER-C/Development work/DLD/2023_06_07/Intensity_series/'\n",
    "gain_reference = compute_gain_reference(path)\n",
    "#print(gain_reference)"
   ]
  },
  {
   "cell_type": "code",
   "execution_count": 112,
   "id": "949a58a9",
   "metadata": {},
   "outputs": [],
   "source": [
    "k =int((1620-1024)/2)\n",
    "\n",
    "path2 = '/Users/josephvas/Dropbox/ER-C/Projects/DLD/Holo/2023_06_07/holograms/'\n",
    "n_num = np.array(Image.open(path2+'biprism_10000_C2_30.672.tif')).shape[0]\n",
    "raw_image = np.array(Image.open(path2+'biprism_10000_C2_30.672.tif'))[k:n_num-k,k:n_num-k]\n",
    "dark_reference = np.array(Image.open(path+'4e6.tif'))[k:n_num-k,k:n_num-k]"
   ]
  },
  {
   "cell_type": "code",
   "execution_count": 113,
   "id": "82b3c609",
   "metadata": {},
   "outputs": [],
   "source": [
    "processed_image = compute_processed_image(raw_image, dark_reference, gain_reference)\n",
    "image_fft = abs(np.fft.fftshift(np.fft.fft2(processed_image)))"
   ]
  },
  {
   "cell_type": "markdown",
   "id": "11e0e6da",
   "metadata": {},
   "source": [
    "processed_image = raw_image\n",
    "image_fft = abs(np.fft.fftshift(np.fft.fft2(processed_image)))"
   ]
  },
  {
   "cell_type": "code",
   "execution_count": 114,
   "id": "fad250cd",
   "metadata": {},
   "outputs": [
    {
     "data": {
      "text/plain": [
       "<matplotlib.image.AxesImage at 0x7fba488c77c0>"
      ]
     },
     "execution_count": 114,
     "metadata": {},
     "output_type": "execute_result"
    }
   ],
   "source": [
    "vmin_mul = 0\n",
    "vmax_mul = 2.5\n",
    "\n",
    "fig, ax = plt.subplots(nrows = 1, ncols= 2)\n",
    "\n",
    "ax[0].imshow(processed_image, cmap='gray', \\\n",
    "                 vmin=vmin_mul*np.mean(processed_image), vmax=vmax_mul*np.mean(processed_image))\n",
    "\n",
    "ax[1].imshow((image_fft), cmap='gray')"
   ]
  },
  {
   "cell_type": "code",
   "execution_count": null,
   "id": "0503cbaa",
   "metadata": {},
   "outputs": [],
   "source": []
  }
 ],
 "metadata": {
  "kernelspec": {
   "display_name": "Python 3 (ipykernel)",
   "language": "python",
   "name": "python3"
  },
  "language_info": {
   "codemirror_mode": {
    "name": "ipython",
    "version": 3
   },
   "file_extension": ".py",
   "mimetype": "text/x-python",
   "name": "python",
   "nbconvert_exporter": "python",
   "pygments_lexer": "ipython3",
   "version": "3.9.7"
  }
 },
 "nbformat": 4,
 "nbformat_minor": 5
}
